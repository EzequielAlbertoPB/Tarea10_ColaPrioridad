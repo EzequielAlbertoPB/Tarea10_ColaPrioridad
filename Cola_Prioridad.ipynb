{
  "nbformat": 4,
  "nbformat_minor": 0,
  "metadata": {
    "colab": {
      "name": "Cola_Prioridad.ipynb",
      "provenance": []
    },
    "kernelspec": {
      "name": "python3",
      "display_name": "Python 3"
    },
    "language_info": {
      "name": "python"
    }
  },
  "cells": [
    {
      "cell_type": "code",
      "metadata": {
        "id": "9HrDCZ9O_R7l"
      },
      "source": [
        "class PriorityQueue:\n",
        "  def __init__( self ):\n",
        "    self.data = []\n",
        "    self.prio = []\n",
        "\n",
        "  def is_empty( self ):\n",
        "    return len( self.data ) == 0\n",
        "\n",
        "  def length( self ):\n",
        "    return len( self.data )\n",
        "  \n",
        "  def enqueue( self , prioridad , value):\n",
        "    aux = len( self.data ) == 0\n",
        "    if aux == True:\n",
        "      self.data.append( value )\n",
        "      self.prio.append( prioridad )\n",
        "    else:\n",
        "      c = prioridad\n",
        "      for elem in self.prio:\n",
        "        if elem <= c:\n",
        "          self.data.append( value )\n",
        "          self.prio.append( prioridad )\n",
        "      self.data.append( value )\n",
        "      self.prio.append( prioridad )\n",
        "\n",
        "  def dequeue( self , prioridad , value ):\n",
        "    return self.data.pop( value ) and seld.prio.pop( prioridad )\n",
        "\n",
        "  def to_string( self ):\n",
        "    for elem in self.data:\n",
        "      print(f\"| { elem } | <--\" , end=\"\" )\n",
        "    print(\"\")"
      ],
      "execution_count": 73,
      "outputs": []
    }
  ]
}